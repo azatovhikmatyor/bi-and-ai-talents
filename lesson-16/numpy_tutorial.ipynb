{
 "cells": [
  {
   "cell_type": "markdown",
   "metadata": {},
   "source": [
    "<h3 style=\"text-align:center;color:cadetblue;\">Calculations with Numpy</h3>"
   ]
  },
  {
   "cell_type": "code",
   "execution_count": 1,
   "metadata": {},
   "outputs": [],
   "source": [
    "import numpy as np\n",
    "\n",
    "a = np.array([\n",
    "    10, 12, 15, 18, 20, 22, 25, 30, 28, 26, 24, 30, 35, 40, 38, 36, 34, 32, 30, 25,\n",
    "    20, 15, 12, 10, 15, 20, 25, 30, 35, 40, 45, 50, 48, 46, 44, 42, 40, 38, 36, 35,\n",
    "    33, 32, 31, 30, 28, 26, 24, 22, 20, 18, 16, 14, 12, 10\n",
    "])\n",
    "\n",
    "b = np.array([\n",
    "    5, 10, 5, 10, 6, 11, 6, 11, 7, 12, 7, 12, 8, 13, 8, 13, 9, 14, 9, 14,\n",
    "    10, 15, 10, 15, 11, 16, 11, 16, 12, 17, 12, 17, 13, 18, 13, 18, 14, 19, 14, 19,\n",
    "    15, 20, 15, 20, 16, 21, 16, 21, 17, 22, 17, 22, 18, 23\n",
    "])\n",
    "\n",
    "w = [\n",
    "    1, 2, 3, 4, 5, 6, 7, 8, 9, 10, 10, 9, 8, 7, 6, 5, 4, 3, 2, 1,\n",
    "    2, 3, 4, 5, 6, 7, 8, 9, 10, 11, 12, 13, 14, 13, 12, 11, 10, 9, 8, 7,\n",
    "    6, 5, 4, 3, 2, 1, 2, 3, 4, 5, 6, 7, 8, 9\n",
    "]"
   ]
  },
  {
   "cell_type": "markdown",
   "metadata": {},
   "source": [
    "**Vector:** $x = (x_1, x_2, x_3, \\dots, x_n)$"
   ]
  },
  {
   "cell_type": "markdown",
   "metadata": {},
   "source": [
    "**Mean**\n",
    "$$\n",
    "\\bar{x} = \\frac{1}{N}\\sum_{i=1}^N (a_i)\n",
    "$$"
   ]
  },
  {
   "cell_type": "markdown",
   "metadata": {},
   "source": [
    "**Weighted Mean**\n",
    "$$\n",
    "\\bar{a}_w = \\frac{\\sum_{i=1}^N w_i a_i}{\\sum_{i=1}^N w_i}\n",
    "$$"
   ]
  },
  {
   "cell_type": "markdown",
   "metadata": {},
   "source": [
    "**Euclidean Norm of a Vector**\n",
    "$$\n",
    "\\|x\\| = \\sqrt{\\sum_{i=1}^N x_i^2}\n",
    "$$"
   ]
  },
  {
   "cell_type": "markdown",
   "metadata": {},
   "source": [
    "**Variance**\n",
    "$$\n",
    "\\text{var}(a) = \\frac{1}{N}\\sum_{i=1}^N (a_i - \\bar{a})^2\n",
    "$$"
   ]
  },
  {
   "cell_type": "markdown",
   "metadata": {},
   "source": [
    "**Standard Deviation**\n",
    "$$\n",
    "\\text{std}(a) = \\sqrt{\\text{var}(a)} = \\sqrt{\\frac{1}{N}\\sum_{i=1}^N (a_i - \\bar{a})^2}\n",
    "$$"
   ]
  },
  {
   "cell_type": "markdown",
   "metadata": {},
   "source": [
    "**Covariance**\n",
    "$$\n",
    "\\text{cov}(a, b) = \\frac{1}{N}\\sum_{i=1}^N (a_i - \\bar{a})(b_i - \\bar{b})\n",
    "$$"
   ]
  },
  {
   "cell_type": "markdown",
   "metadata": {},
   "source": [
    "**Correlation**\n",
    "$$\n",
    "\\text{corr}(a, b) = \\frac{\\sum_{i=1}^N (a_i - \\bar{a})(b_i - \\bar{b})}{\\sqrt{\\sum_{i=1}^N (a_i - \\bar{a})^2 \\sum_{i=1}^N (b_i - \\bar{b})^2}} = \\frac{\\text{cov}(a,b)}{\\text{std}(a)\\cdot \\text{std}(b)}\n",
    "$$"
   ]
  },
  {
   "cell_type": "markdown",
   "metadata": {},
   "source": [
    "**$k$-th moment**\n",
    "$$\n",
    "\\mu_k = \\frac{1}{N} \\sum_{i=1}^N (x_i - \\bar{x})^k\n",
    "$$"
   ]
  },
  {
   "cell_type": "markdown",
   "metadata": {},
   "source": [
    "**Skewness**\n",
    "$$\n",
    "\\text{skew}(a) = \\frac{\\frac{1}{N}\\sum_{i=1}^N (a_i - \\bar{a})^3}{\\left(\\frac{1}{N}\\sum_{i=1}^N (a_i - \\bar{a})^2\\right)^{3/2}} = \\frac{\\mu_3}{\\sigma^3}\n",
    "$$"
   ]
  },
  {
   "cell_type": "markdown",
   "metadata": {},
   "source": [
    "**Kurtosis**\n",
    "$$\n",
    "\\text{kurt}(a) = \\frac{\\frac{1}{N}\\sum_{i=1}^N (a_i - \\bar{a})^4}{\\left(\\frac{1}{N}\\sum_{i=1}^N (a_i - \\bar{a})^2\\right)^2} = \\frac{\\mu_4}{\\sigma^4}\n",
    "$$"
   ]
  },
  {
   "cell_type": "code",
   "execution_count": null,
   "metadata": {},
   "outputs": [],
   "source": []
  }
 ],
 "metadata": {
  "kernelspec": {
   "display_name": "Python 3",
   "language": "python",
   "name": "python3"
  },
  "language_info": {
   "codemirror_mode": {
    "name": "ipython",
    "version": 3
   },
   "file_extension": ".py",
   "mimetype": "text/x-python",
   "name": "python",
   "nbconvert_exporter": "python",
   "pygments_lexer": "ipython3",
   "version": "3.10.11"
  }
 },
 "nbformat": 4,
 "nbformat_minor": 2
}
